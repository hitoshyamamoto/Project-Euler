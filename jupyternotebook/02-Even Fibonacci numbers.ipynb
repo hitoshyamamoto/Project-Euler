{
 "cells": [
  {
   "cell_type": "code",
   "execution_count": 21,
   "metadata": {},
   "outputs": [
    {
     "name": "stdout",
     "output_type": "stream",
     "text": [
      "4613732\n"
     ]
    }
   ],
   "source": [
    "from math import sqrt, floor, log\n",
    "from decimal import *\n",
    "\n",
    "# Complexidade do Algoritmo: O(1)\n",
    "# Fonte: https://medium.com/@TheZaki/project-euler-2-even-fibonacci-numbers-2219e9438970\n",
    "\n",
    "\"\"\"\n",
    "\n",
    "library: decimal — Decimal fixed point and floating point arithmetic\n",
    "The decimal module provides support for fast correctly-rounded\n",
    "decimal floating point arithmetic.\n",
    "It offers several advantages over the float datatype\n",
    "\n",
    "------\n",
    "\n",
    "Contexts are environments for arithmetic operations.\n",
    "They govern precision, set rules for rounding, determine which signals\n",
    "are treated as exceptions, and limit the range for exponents.\n",
    "\n",
    "Each thread has its own current context which is accessed or changed using\n",
    "the getcontext() and setcontext() functions:\n",
    "\n",
    "getcontext(\t)\n",
    "Return the current context for the active thread.\n",
    "setcontext(\tc)\n",
    "Set the current context for the active thread to c.\n",
    "\n",
    "------\n",
    "\n",
    "decimal.ROUND_05UP\n",
    "Round away from zero if last digit after rounding towards zero would have been 0 or 5;\n",
    "otherwise round towards zero\n",
    "\n",
    "\"\"\"\n",
    "context = Context(prec=3000, rounding=ROUND_05UP)\n",
    "setcontext(context)\n",
    "\n",
    "# Fórmula de Binet\n",
    "# Fonte:\n",
    "# https://pt.wikipedia.org/wiki/Sequ%C3%AAncia_de_Fibonacci#Fun%C3%A7%C3%A3o_inversa_da_f%C3%B3rmula_de_Binet\n",
    "# phi = (1+sqrt(5))/2\n",
    "# psi = (1-sqrt(5))/2\n",
    "phi = Decimal(1 + Decimal(5).sqrt()) / Decimal(2)\n",
    "psi = Decimal(1 - Decimal(5).sqrt()) / Decimal(2)\n",
    "\n",
    "# Função inversa da fórmula de Binet\n",
    "def reverse_fib(fn):\n",
    "    return floor(\n",
    "        log((fn * sqrt(5) + sqrt(5 * (fn ** 2) - 4)) / 2, phi)\n",
    "    )\n",
    "\n",
    "def get_k(n):\n",
    "    return reverse_fib(n) // 3\n",
    "\n",
    "# Fórmula de Série Geométrica\n",
    "def sum_even(k):\n",
    "    phi3 = context.power(phi, 3)\n",
    "    psi3 = context.power(psi, 3)\n",
    "    return int((Decimal(1) / Decimal(5).sqrt()) * (\n",
    "        phi3 * ((1 - context.power(phi3, k)) / (1 - phi3)) -\n",
    "        psi3 * ((1 - context.power(psi3, k)) / (1 - psi3))\n",
    "    ))\n",
    "\n",
    "t = int(1)\n",
    "for i in range(t):\n",
    "    N = int(4000000)\n",
    "    k = get_k(N)\n",
    "    print(sum_even(k))"
   ]
  },
  {
   "cell_type": "code",
   "execution_count": null,
   "metadata": {},
   "outputs": [],
   "source": []
  },
  {
   "cell_type": "code",
   "execution_count": null,
   "metadata": {},
   "outputs": [],
   "source": []
  }
 ],
 "metadata": {
  "kernelspec": {
   "display_name": "Python 3",
   "language": "python",
   "name": "python3"
  },
  "language_info": {
   "codemirror_mode": {
    "name": "ipython",
    "version": 3
   },
   "file_extension": ".py",
   "mimetype": "text/x-python",
   "name": "python",
   "nbconvert_exporter": "python",
   "pygments_lexer": "ipython3",
   "version": "3.7.4"
  }
 },
 "nbformat": 4,
 "nbformat_minor": 2
}
